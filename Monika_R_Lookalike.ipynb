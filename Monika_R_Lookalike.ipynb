{
  "nbformat": 4,
  "nbformat_minor": 0,
  "metadata": {
    "colab": {
      "provenance": []
    },
    "kernelspec": {
      "name": "python3",
      "display_name": "Python 3"
    },
    "language_info": {
      "name": "python"
    }
  },
  "cells": [
    {
      "cell_type": "code",
      "execution_count": null,
      "metadata": {
        "id": "51U3kJbWj_m9"
      },
      "outputs": [],
      "source": [
        "# Task 2: Lookalike Model\n",
        "\n",
        "# Required Libraries\n",
        "import pandas as pd\n",
        "from sklearn.metrics.pairwise import cosine_similarity\n",
        "from sklearn.preprocessing import StandardScaler\n",
        "import numpy as np\n",
        "\n",
        "from google.colab import files\n",
        "\n",
        "print(\"upload 'Customers.csv'\")\n",
        "uploaded = files.upload()\n",
        "customers = pd.read_csv(next(iter(uploaded.keys())))\n",
        "\n",
        "print(\"upload 'Products.csv'\")\n",
        "uploaded = files.upload()\n",
        "products = pd.read_csv(next(iter(uploaded.keys())))\n",
        "\n",
        "print(\" upload 'Transactions.csv'\")\n",
        "uploaded = files.upload()\n",
        "transactions = pd.read_csv(next(iter(uploaded.keys())))\n",
        "\n",
        "merged_data = pd.merge(transactions, customers, on='CustomerID', how='left')\n",
        "merged_data = pd.merge(merged_data, products, on='ProductID', how='left')\n",
        "\n",
        "## Calculate total spend, average spend, and purchase frequency per customer\n",
        "customer_features = merged_data.groupby('CustomerID').agg(\n",
        "    total_spend=('TotalValue', 'sum'),\n",
        "    avg_spend=('TotalValue', 'mean'),\n",
        "    purchase_frequency=('TransactionID', 'count')\n",
        ").reset_index()\n",
        "\n",
        "preferred_category = merged_data.groupby(['CustomerID', 'Category'])['TotalValue'].sum().reset_index()\n",
        "preferred_category = preferred_category.loc[preferred_category.groupby('CustomerID')['TotalValue'].idxmax()]\n",
        "preferred_category = preferred_category[['CustomerID', 'Category']]\n",
        "\n",
        "data = pd.merge(customer_features, preferred_category, on='CustomerID', how='left')\n",
        "\n",
        "data = pd.get_dummies(data, columns=['Category'], drop_first=True)\n",
        "\n",
        "# Normalizing features\n",
        "scaler = StandardScaler()\n",
        "scaled_features = scaler.fit_transform(data.iloc[:, 1:])  # Exclude CustomerID from scaling\n",
        "\n",
        "# Similarity Calculation\n",
        "similarity_matrix = cosine_similarity(scaled_features)\n",
        "\n",
        "# Find top 3 similar customers for CustomerIDs C0001 - C0020\n",
        "customer_ids = data['CustomerID'][:20]\n",
        "lookalikes = {}\n",
        "\n",
        "for idx, customer_id in enumerate(customer_ids):\n",
        "    similar_indices = np.argsort(-similarity_matrix[idx])[1:4]  # Exclude self (index 0)\n",
        "    similar_customers = data['CustomerID'].iloc[similar_indices].values\n",
        "    scores = similarity_matrix[idx, similar_indices]\n",
        "    lookalikes[customer_id] = list(zip(similar_customers, scores))\n",
        "\n",
        "lookalike_df = pd.DataFrame(\n",
        "    [(cust, sim[0], sim[1]) for cust, sims in lookalikes.items() for sim in sims],\n",
        "    columns=['CustomerID', 'SimilarCustomerID', 'SimilarityScore']\n",
        ")\n",
        "lookalike_df.to_csv('Monika_R_Lookalike.csv', index=False)\n",
        "\n",
        "print(\"Lookalike.csv has been created successfully.\")\n",
        "\n",
        "\n",
        "print(\"Top 3 lookalikes for the first 20 customers:\")\n",
        "for customer, sims in lookalikes.items():\n",
        "    print(f\"Customer {customer}: {sims}\")\n"
      ]
    }
  ]
}